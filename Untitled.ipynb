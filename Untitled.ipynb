{
 "cells": [
  {
   "cell_type": "code",
   "execution_count": 4,
   "id": "30124663",
   "metadata": {},
   "outputs": [
    {
     "name": "stdout",
     "output_type": "stream",
     "text": [
      "10\n"
     ]
    }
   ],
   "source": [
    "list1 = [1,2,3,4]\n",
    "sum = 0\n",
    "for i in list1:\n",
    "    sum += i\n",
    "print (sum)"
   ]
  },
  {
   "cell_type": "code",
   "execution_count": 6,
   "id": "3e34e569",
   "metadata": {},
   "outputs": [
    {
     "name": "stdout",
     "output_type": "stream",
     "text": [
      "1\n"
     ]
    }
   ],
   "source": [
    "list1 = [1,2,3,4]\n",
    "min = list1[0]\n",
    "for i in list1:\n",
    "    if min > i:\n",
    "        min = i\n",
    "print (min)"
   ]
  },
  {
   "cell_type": "code",
   "execution_count": 7,
   "id": "ba7da3b6",
   "metadata": {},
   "outputs": [
    {
     "name": "stdout",
     "output_type": "stream",
     "text": [
      "3\n"
     ]
    }
   ],
   "source": [
    "list1 = [\"farah\", \"nabil\", 1,2,3, \"abdo\"]\n",
    "count = 0\n",
    "for i in list1:\n",
    "    if type(i) == str:\n",
    "        count += 1\n",
    "print (count)"
   ]
  },
  {
   "cell_type": "code",
   "execution_count": 8,
   "id": "82058c73",
   "metadata": {},
   "outputs": [
    {
     "name": "stdout",
     "output_type": "stream",
     "text": [
      "true\n"
     ]
    }
   ],
   "source": [
    "set1 = {1,2,3,4}\n",
    "set2 = {1,2}\n",
    "if (set2).issubset (set1):\n",
    "    print(\"true\")\n",
    "else:\n",
    "    print(\"false\")"
   ]
  },
  {
   "cell_type": "code",
   "execution_count": 9,
   "id": "d22a8606",
   "metadata": {},
   "outputs": [
    {
     "name": "stdout",
     "output_type": "stream",
     "text": [
      "set()\n"
     ]
    }
   ],
   "source": [
    "set1 = {1,2,3,4}\n",
    "set1.clear()\n",
    "print(set1)"
   ]
  },
  {
   "cell_type": "code",
   "execution_count": 12,
   "id": "dc704545",
   "metadata": {},
   "outputs": [
    {
     "name": "stdout",
     "output_type": "stream",
     "text": [
      "{'list 1 is [1, 2]'}\n",
      "{'list 2 is [3, 4]'}\n",
      "{'list 3 is [5, 6]'}\n"
     ]
    }
   ],
   "source": [
    "tuple_list = [(1, 2) , (3,4) , (5,6)]\n",
    "for i in range(len(tuple_list)):\n",
    "    print({f\"list {i+1} is {list(tuple_list[i])}\"})"
   ]
  },
  {
   "cell_type": "code",
   "execution_count": 13,
   "id": "dbba2293",
   "metadata": {},
   "outputs": [
    {
     "name": "stdout",
     "output_type": "stream",
     "text": [
      "(5, 3, 2, 1)\n"
     ]
    }
   ],
   "source": [
    "my_tuple = (1, 2, 3, 5)\n",
    "tuple1 = my_tuple[-1: : -1]\n",
    "print (tuple1)"
   ]
  },
  {
   "cell_type": "code",
   "execution_count": 14,
   "id": "787791ee",
   "metadata": {},
   "outputs": [
    {
     "name": "stdout",
     "output_type": "stream",
     "text": [
      "24\n"
     ]
    }
   ],
   "source": [
    "list1 = [1,2,3,4]\n",
    "mul = 1\n",
    "for i in list1:\n",
    "    mul *= i \n",
    "print (mul)"
   ]
  },
  {
   "cell_type": "code",
   "execution_count": 16,
   "id": "47a37860",
   "metadata": {},
   "outputs": [
    {
     "name": "stdout",
     "output_type": "stream",
     "text": [
      "[1, 2, 3, 4]\n"
     ]
    }
   ],
   "source": [
    "list1 = [1,2,3,4]\n",
    "list2 = list1.copy()\n",
    "print (list2)"
   ]
  },
  {
   "cell_type": "code",
   "execution_count": 17,
   "id": "45c4ef58",
   "metadata": {},
   "outputs": [
    {
     "name": "stdout",
     "output_type": "stream",
     "text": [
      "how many number do you want to delete2\n",
      "enter what is we want remove2\n",
      "enter what is we want remove3\n",
      "{1, 4}\n"
     ]
    }
   ],
   "source": [
    "set1 = {1,2,3,4}\n",
    "rang = int (input (\"how many number do you want to delete\"))\n",
    "for i in range (rang) :\n",
    "    choose =int (input(\"enter what is we want remove\"))\n",
    "    set1. remove (choose)\n",
    "print(set1)"
   ]
  },
  {
   "cell_type": "code",
   "execution_count": 19,
   "id": "c90f42c5",
   "metadata": {},
   "outputs": [
    {
     "name": "stdout",
     "output_type": "stream",
     "text": [
      "0\n",
      "1\n",
      "2\n",
      "3\n"
     ]
    }
   ],
   "source": [
    "tuble= (1,2,3,4)\n",
    "for i in tuble:\n",
    "    print(tuble.index(i))"
   ]
  },
  {
   "cell_type": "code",
   "execution_count": null,
   "id": "13b89410",
   "metadata": {},
   "outputs": [],
   "source": []
  }
 ],
 "metadata": {
  "kernelspec": {
   "display_name": "Python 3 (ipykernel)",
   "language": "python",
   "name": "python3"
  },
  "language_info": {
   "codemirror_mode": {
    "name": "ipython",
    "version": 3
   },
   "file_extension": ".py",
   "mimetype": "text/x-python",
   "name": "python",
   "nbconvert_exporter": "python",
   "pygments_lexer": "ipython3",
   "version": "3.10.9"
  }
 },
 "nbformat": 4,
 "nbformat_minor": 5
}
